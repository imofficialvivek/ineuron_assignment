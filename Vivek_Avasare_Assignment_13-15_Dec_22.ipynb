{
 "cells": [
  {
   "cell_type": "markdown",
   "id": "73bb2a79-c751-44e3-9f27-c40e2521277f",
   "metadata": {},
   "source": [
    "# Assignment : 13-12-2022"
   ]
  },
  {
   "cell_type": "markdown",
   "id": "746938fb-d799-4f79-a6bb-ba9b8e7b498b",
   "metadata": {
    "tags": []
   },
   "source": [
    "##### WAP to accept two numbers from the user and display their sum"
   ]
  },
  {
   "cell_type": "code",
   "execution_count": 3,
   "id": "191e1392-a61d-472b-afcf-b78b3bd715f3",
   "metadata": {},
   "outputs": [
    {
     "name": "stdin",
     "output_type": "stream",
     "text": [
      "Enter first number:  5\n",
      "Enter second number:  5\n"
     ]
    },
    {
     "name": "stdout",
     "output_type": "stream",
     "text": [
      "Sum:  10\n"
     ]
    }
   ],
   "source": [
    "a = int(input(\"Enter first number: \"))\n",
    "b = int(input(\"Enter second number: \"))\n",
    "print(\"Sum: \",a+b)"
   ]
  },
  {
   "cell_type": "markdown",
   "id": "0fe417f9-fb23-4c56-8327-f53acd8fcadb",
   "metadata": {},
   "source": [
    "##### WAP to accept radius of a Circle from the user and calculate area and circumference"
   ]
  },
  {
   "cell_type": "code",
   "execution_count": 5,
   "id": "87eb147d-d840-43e8-9ad8-a486427927e5",
   "metadata": {},
   "outputs": [
    {
     "name": "stdin",
     "output_type": "stream",
     "text": [
      "Enter radius of circle:  4.2\n"
     ]
    },
    {
     "name": "stdout",
     "output_type": "stream",
     "text": [
      "Area of circle is: 55.3896\n",
      "Circumference pf circle is: 26.376\n"
     ]
    }
   ],
   "source": [
    "r = float(input(\"Enter radius of circle: \"))\n",
    "pi = 3.14\n",
    "a = pi*r*r\n",
    "c = 2*pi*r\n",
    "print(\"Area of circle is: {}\\nCircumference pf circle is: {}\".format(a,c))"
   ]
  },
  {
   "cell_type": "markdown",
   "id": "c8091026-b4c2-42bc-b212-8717c0ce9ea5",
   "metadata": {},
   "source": [
    "##### WAP to accept roll number, grade and percentage as input from the user and display it back"
   ]
  },
  {
   "cell_type": "code",
   "execution_count": 8,
   "id": "dd3f578d-4ca4-4062-b39d-31fc3433f6f5",
   "metadata": {},
   "outputs": [
    {
     "name": "stdin",
     "output_type": "stream",
     "text": [
      "Enter your roll no.:  1\n",
      "Enter your grade:  A\n",
      "Enter your percentage:  82%\n"
     ]
    },
    {
     "name": "stdout",
     "output_type": "stream",
     "text": [
      "Your roll no. is: 1, grade is: A, percentage is: 82%\n"
     ]
    }
   ],
   "source": [
    "def student_details():\n",
    "    r = int(input(\"Enter your roll no.: \"))\n",
    "    g = input(\"Enter your grade: \")\n",
    "    p = input(\"Enter your percentage: \")\n",
    "    \n",
    "    print(\"Your roll no. is: {}, grade is: {}, percentage is: {}\".format(r,g,p))\n",
    "\n",
    "student_details()"
   ]
  },
  {
   "cell_type": "markdown",
   "id": "4282e805-681c-4268-801c-3023c1ca51ff",
   "metadata": {},
   "source": [
    "##### Write a program that asks the user to enter his/her name and age. Print out a message , displaying the user’s name along with the year in which they will turn 100 years old."
   ]
  },
  {
   "cell_type": "code",
   "execution_count": 10,
   "id": "5a4e08bb-e0ca-417c-b7b9-7a7853daa51b",
   "metadata": {},
   "outputs": [
    {
     "name": "stdin",
     "output_type": "stream",
     "text": [
      "Enter your name:  Vivek\n",
      "Enter your age:  24\n"
     ]
    },
    {
     "name": "stdout",
     "output_type": "stream",
     "text": [
      "Your name is: Vivek and you will turn 100 in the year: 2098\n"
     ]
    }
   ],
   "source": [
    "n = input(\"Enter your name: \")\n",
    "a = int(input(\"Enter your age: \"))\n",
    "result = 2022-a+100\n",
    "print(\"Your name is: {} and you will turn 100 in the year: {}\".format(n,result))"
   ]
  },
  {
   "cell_type": "markdown",
   "id": "10268a60-6e54-4355-8ec4-7e444aecc1d2",
   "metadata": {},
   "source": [
    "##### Write a program that asks the user to input 2 integers and adds them . Accept both the numbers in a single line only"
   ]
  },
  {
   "cell_type": "code",
   "execution_count": 13,
   "id": "6443478a-195b-41b3-96ef-a592fd6d09d3",
   "metadata": {},
   "outputs": [
    {
     "name": "stdin",
     "output_type": "stream",
     "text": [
      " 5 6\n"
     ]
    },
    {
     "name": "stdout",
     "output_type": "stream",
     "text": [
      "Sum is:  11\n"
     ]
    }
   ],
   "source": [
    "x,y = map(int,input().split())\n",
    "print(\"Sum is: \",x+y)  "
   ]
  },
  {
   "cell_type": "markdown",
   "id": "7b18916d-b151-47b1-8c18-01fdf5e9531a",
   "metadata": {},
   "source": [
    "##### Write a Python program which accepts the user's first and last name and print them in reverse order with a space between them."
   ]
  },
  {
   "cell_type": "code",
   "execution_count": 14,
   "id": "713987f3-92e3-432f-a051-ea9e8b0b3817",
   "metadata": {},
   "outputs": [
    {
     "name": "stdin",
     "output_type": "stream",
     "text": [
      "Enter your first name:  Vivek\n",
      "Enter your surname:  Avasare\n"
     ]
    },
    {
     "name": "stdout",
     "output_type": "stream",
     "text": [
      "Your name in reverse is:  erasavA keviV\n"
     ]
    }
   ],
   "source": [
    "first_name = input(\"Enter your first name: \")\n",
    "last_name = input(\"Enter your surname: \")\n",
    "full_name_reverse = first_name+\" \"+last_name\n",
    "print(\"Your name in reverse is: \",full_name_reverse[::-1])"
   ]
  },
  {
   "cell_type": "markdown",
   "id": "3b61c188-31a2-4d3d-92fc-d4208ba1fda1",
   "metadata": {},
   "source": [
    "# Assignment : 15-12-2022"
   ]
  },
  {
   "cell_type": "markdown",
   "id": "411d6581-a80d-4a5a-b768-c1522f38983f",
   "metadata": {},
   "source": [
    "##### WAP to accept an integer from the user and check whether it is an even or odd"
   ]
  },
  {
   "cell_type": "code",
   "execution_count": 16,
   "id": "1b261ce8-40e4-4832-9dbf-bf919b61e407",
   "metadata": {},
   "outputs": [
    {
     "name": "stdin",
     "output_type": "stream",
     "text": [
      "Enter any integer:  5\n"
     ]
    },
    {
     "name": "stdout",
     "output_type": "stream",
     "text": [
      "It is odd\n"
     ]
    }
   ],
   "source": [
    "n = int(input(\"Enter any integer: \"))\n",
    "if n%2==0:\n",
    "    print(\"It is even\")\n",
    "else:\n",
    "    print(\"It is odd\")"
   ]
  },
  {
   "cell_type": "markdown",
   "id": "6a71677b-9239-43a7-bfb9-b3d52be03f63",
   "metadata": {},
   "source": [
    "##### WAP to accept a character from the user and check whether it is a capital letter or small letter. Assume user will input only alphabets"
   ]
  },
  {
   "cell_type": "code",
   "execution_count": 17,
   "id": "01189f8e-4cf4-411c-b833-7c060265b169",
   "metadata": {},
   "outputs": [
    {
     "name": "stdin",
     "output_type": "stream",
     "text": [
      "Enter a single character:  V\n"
     ]
    },
    {
     "name": "stdout",
     "output_type": "stream",
     "text": [
      "Capital letter\n"
     ]
    }
   ],
   "source": [
    "a = input(\"Enter a single character: \")\n",
    "if a>='a' and a<='z':\n",
    "    print(\"Small letter\")\n",
    "elif a>='A' and a<='Z':\n",
    "    print(\"Capital letter\")\n",
    "else :\n",
    "    print(\"Invalid\")"
   ]
  },
  {
   "cell_type": "markdown",
   "id": "43485c58-3d9f-479f-9a25-27cb709f7778",
   "metadata": {},
   "source": [
    "##### WAP to accept a character from the user and check whether it is a capital letter or small letter or a digit or some special symbol"
   ]
  },
  {
   "cell_type": "code",
   "execution_count": 18,
   "id": "fc58f29a-95e9-4bdb-b39e-a7b84d4fcbf5",
   "metadata": {},
   "outputs": [
    {
     "name": "stdin",
     "output_type": "stream",
     "text": [
      "Enter a single character or digit or a special symbol:  5\n"
     ]
    },
    {
     "name": "stdout",
     "output_type": "stream",
     "text": [
      "Digit\n"
     ]
    }
   ],
   "source": [
    "a = input(\"Enter a single character or digit or a special symbol: \")\n",
    "if a>='a' and a<='z':\n",
    "    print(\"Small letter\")\n",
    "elif a>='A' and a<='Z':\n",
    "    print(\"Capital letter\")\n",
    "elif a.isdigit():\n",
    "    print(\"Digit\")\n",
    "else :\n",
    "    print(\"Special Symbol\")"
   ]
  },
  {
   "cell_type": "markdown",
   "id": "427d8dfa-6326-48bc-a544-5c811160b6d1",
   "metadata": {},
   "source": [
    "##### WAP to accept 3 integers from the user and without using any logical operator and cascading of relational operators , find out the greatest number amongst them"
   ]
  },
  {
   "cell_type": "code",
   "execution_count": 43,
   "id": "6cf84e3d-9e71-4c15-a992-3ccba727b2e4",
   "metadata": {},
   "outputs": [
    {
     "name": "stdin",
     "output_type": "stream",
     "text": [
      "Enter first no:  12\n",
      "Enter second no:  34\n",
      "Enter third no:  1\n"
     ]
    },
    {
     "name": "stdout",
     "output_type": "stream",
     "text": [
      "Greatest among all is:  34\n"
     ]
    }
   ],
   "source": [
    "a = int(input(\"Enter first no: \"))\n",
    "b = int(input(\"Enter second no: \"))\n",
    "c = int(input(\"Enter third no: \"))\n",
    "\n",
    "print(\"Greatest among all is: \",max(a,b,c))"
   ]
  },
  {
   "cell_type": "markdown",
   "id": "827bd0e7-fa37-4be8-9521-3079f1b6ae8c",
   "metadata": {},
   "source": [
    "##### WAP to accept a year from the user and check whether it is a leap year or not.\n",
    "##### An year is a leap year if:\n",
    "##### It is exactly divisible by 4 and at the same time not\n",
    "##### divisible by 100\n",
    "##### OR\n",
    "##### It is divisible by 400\n",
    "##### For example:\n",
    "##### 2017 is not a leap year\n",
    "##### 2012 is a leap year\n",
    "##### 1900 is a not leap year\n",
    "##### 2000 is a leap year"
   ]
  },
  {
   "cell_type": "code",
   "execution_count": 45,
   "id": "b9fc6a5b-a141-4d71-bb55-92e9848a600a",
   "metadata": {},
   "outputs": [
    {
     "name": "stdin",
     "output_type": "stream",
     "text": [
      "Enter any year:  1998\n"
     ]
    },
    {
     "name": "stdout",
     "output_type": "stream",
     "text": [
      "Not a leap year\n"
     ]
    }
   ],
   "source": [
    "a = int(input(\"Enter any year: \"))\n",
    "if a%4==0 and a%100!=0 or a%400==0:\n",
    "    print(\"Leap year\")\n",
    "else:\n",
    "    print(\"Not a leap year\")"
   ]
  },
  {
   "cell_type": "markdown",
   "id": "a6fcbcac-0cf3-47aa-83a1-89956a668f9b",
   "metadata": {},
   "source": [
    "##### You have to develop a number guessing game. Following are the steps needed:\n",
    "##### At first , the program will generate a random integer secretly.\n",
    "##### Now it will ask the user to guess that number .\n",
    "##### If the user guessed it correctly then the program prints “Congratulations! You guessed it right” .\n",
    "##### But if the number guessed by the user is larger than the secret number then program should print “Number too large” and , if the number guessed by the user is smaller than the secret number then the program should print “Number too small” \n",
    "##### This should continue until the user guesses the number correctly or quits .\n",
    "##### If the user wants to quit in between he will have to type 0 or negative number"
   ]
  },
  {
   "cell_type": "code",
   "execution_count": 46,
   "id": "416bc4b8-c52c-4951-a662-e265ed589924",
   "metadata": {},
   "outputs": [
    {
     "name": "stdin",
     "output_type": "stream",
     "text": [
      "Guess the number:  13\n"
     ]
    },
    {
     "name": "stdout",
     "output_type": "stream",
     "text": [
      "Number too large\n"
     ]
    },
    {
     "name": "stdin",
     "output_type": "stream",
     "text": [
      "Guess the number:  14\n"
     ]
    },
    {
     "name": "stdout",
     "output_type": "stream",
     "text": [
      "Number too large\n"
     ]
    },
    {
     "name": "stdin",
     "output_type": "stream",
     "text": [
      "Guess the number:  12\n"
     ]
    },
    {
     "name": "stdout",
     "output_type": "stream",
     "text": [
      "Number too large\n"
     ]
    },
    {
     "name": "stdin",
     "output_type": "stream",
     "text": [
      "Guess the number:  4\n"
     ]
    },
    {
     "name": "stdout",
     "output_type": "stream",
     "text": [
      "Congratulations! You Guessed it right\n"
     ]
    }
   ],
   "source": [
    "import random\n",
    "n = random.randint(0,20)\n",
    "while True:\n",
    "    a = int (input(\"Guess the number: \"))\n",
    "    if a<=0:\n",
    "        break\n",
    "    elif a>0:\n",
    "        if n==a:\n",
    "            print(\"Congratulations! You Guessed it right\")\n",
    "            break\n",
    "        elif a>n:\n",
    "            print(\"Number too large\")\n",
    "        elif a<n:\n",
    "            print(\"Number too small\")"
   ]
  },
  {
   "cell_type": "markdown",
   "id": "04dfea55-f563-4733-a498-2ebd10668b19",
   "metadata": {},
   "source": [
    "##### Write a program to accept a string from the user and display it vertically but don’t display the vowels in it."
   ]
  },
  {
   "cell_type": "code",
   "execution_count": 47,
   "id": "90a8ed96-ec01-4871-bd5d-9066e5de52be",
   "metadata": {},
   "outputs": [
    {
     "name": "stdin",
     "output_type": "stream",
     "text": [
      "Enter the string:  Vivek\n"
     ]
    },
    {
     "name": "stdout",
     "output_type": "stream",
     "text": [
      "V\n",
      "v\n",
      "k\n"
     ]
    }
   ],
   "source": [
    "a = input(\"Enter the string: \")\n",
    "i = 0\n",
    "while i<len(a):\n",
    "    if a[i] not in 'aeiou':\n",
    "        print(a[i])\n",
    "    i= i+1"
   ]
  },
  {
   "cell_type": "markdown",
   "id": "fa96f8af-7e0d-4031-825d-f800836cd43b",
   "metadata": {},
   "source": [
    "##### Write a program to continuously accept integers from the user until the user types 0 and as soon as 0 is entered display sum of all the nos entered before 0\n",
    "##### Note:Modify the previous code so that if the user inputs a negative integer , your program should ignore it ."
   ]
  },
  {
   "cell_type": "code",
   "execution_count": 30,
   "id": "f387969a-d178-4552-a9be-d0e5471d13f6",
   "metadata": {},
   "outputs": [
    {
     "name": "stdin",
     "output_type": "stream",
     "text": [
      "Enter the number:  23\n",
      "Enter the number:  43\n",
      "Enter the number:  23\n",
      "Enter the number:  1\n",
      "Enter the number:  0\n"
     ]
    },
    {
     "name": "stdout",
     "output_type": "stream",
     "text": [
      "90\n"
     ]
    }
   ],
   "source": [
    "sum = 0\n",
    "while True:\n",
    "    a = int(input(\"Enter the number: \"))\n",
    "    if a>0:\n",
    "        sum = sum + a\n",
    "    elif a==0:\n",
    "        print(sum)\n",
    "        break"
   ]
  },
  {
   "cell_type": "markdown",
   "id": "bf5a4af2-032d-4461-ae01-2fe6a747187a",
   "metadata": {},
   "source": [
    "##### Write a program using a for loop to accept a string from the user and display it vertically but don’t display the vowels in it."
   ]
  },
  {
   "cell_type": "code",
   "execution_count": 48,
   "id": "a8cf3d57-568f-4f92-9883-ad6d86855aa0",
   "metadata": {},
   "outputs": [
    {
     "name": "stdin",
     "output_type": "stream",
     "text": [
      "Enter the string:  Vivek\n"
     ]
    },
    {
     "name": "stdout",
     "output_type": "stream",
     "text": [
      "V\n",
      "v\n",
      "k\n"
     ]
    }
   ],
   "source": [
    "a = input(\"Enter the string: \")\n",
    "for i in range(len(a)):\n",
    "    if a[i] in 'aeiou':\n",
    "        continue\n",
    "    print(a[i])"
   ]
  },
  {
   "cell_type": "markdown",
   "id": "a52206db-3112-457b-9441-750a7b18f42f",
   "metadata": {},
   "source": [
    "##### Write a program to accept an integer from the user and display the sum of all the numbers from 1 to that number."
   ]
  },
  {
   "cell_type": "code",
   "execution_count": 33,
   "id": "bd40928a-b3ca-455b-adc6-c6d67019f0b1",
   "metadata": {},
   "outputs": [
    {
     "name": "stdin",
     "output_type": "stream",
     "text": [
      "Enter the number:  45\n"
     ]
    },
    {
     "name": "stdout",
     "output_type": "stream",
     "text": [
      "1035\n"
     ]
    }
   ],
   "source": [
    "num = 0\n",
    "a =int(input(\"Enter the number: \"))\n",
    "i= 1\n",
    "while i<=a:\n",
    "    num = i+ num\n",
    "    i = i+1\n",
    "print(num)"
   ]
  },
  {
   "cell_type": "markdown",
   "id": "5384dc54-1b16-4cd0-bbe9-2e46060ef14e",
   "metadata": {},
   "source": [
    "##### Write a program to accept an integer from the user and calculate its factorial"
   ]
  },
  {
   "cell_type": "code",
   "execution_count": 35,
   "id": "62cb447c-d77a-41a0-99c4-d895952eca59",
   "metadata": {},
   "outputs": [
    {
     "name": "stdin",
     "output_type": "stream",
     "text": [
      "Enter the number:  8\n"
     ]
    },
    {
     "name": "stdout",
     "output_type": "stream",
     "text": [
      "40320\n"
     ]
    }
   ],
   "source": [
    "num = 1\n",
    "a =int(input(\"Enter the number: \"))\n",
    "i= 1\n",
    "while i<=a:\n",
    "    num = i*num\n",
    "    i = i+1\n",
    "print(num)"
   ]
  },
  {
   "cell_type": "markdown",
   "id": "6aeeb2c2-e2e3-4f43-8659-552ab41a055e",
   "metadata": {},
   "source": [
    "##### Write a program to print the following pattern\n",
    "##### ***\n",
    "##### ***\n",
    "##### ***\n",
    "##### ***"
   ]
  },
  {
   "cell_type": "code",
   "execution_count": 36,
   "id": "e36c7bc4-d751-475f-91fc-e0d03a6882ce",
   "metadata": {},
   "outputs": [
    {
     "name": "stdout",
     "output_type": "stream",
     "text": [
      "\n",
      "\n",
      "***\n",
      "\n",
      "***\n",
      "\n",
      "***\n",
      "\n",
      "***"
     ]
    }
   ],
   "source": [
    "n = 4\n",
    "m = 3\n",
    "for i in range(n):\n",
    "    print(\"\\n\")\n",
    "    for j in range(m):\n",
    "        print(\"*\",end=\"\")"
   ]
  },
  {
   "cell_type": "markdown",
   "id": "cc3b3fef-394e-4408-a13b-0b216365602f",
   "metadata": {},
   "source": [
    "##### Write a program to print the following pattern \n",
    "##### *\n",
    "##### **\n",
    "##### ***\n",
    "##### ****"
   ]
  },
  {
   "cell_type": "code",
   "execution_count": 38,
   "id": "7a7d26e1-8d4a-46a2-9ccf-55ab4a2c3be4",
   "metadata": {},
   "outputs": [
    {
     "name": "stdout",
     "output_type": "stream",
     "text": [
      "\n",
      "\n",
      "\n",
      "\n",
      "*\n",
      "\n",
      "**\n",
      "\n",
      "***\n",
      "\n",
      "****"
     ]
    }
   ],
   "source": [
    "n = 4\n",
    "for m in range(n+1):\n",
    "    print(\"\\n\")\n",
    "    for j in range(m):\n",
    "        print(\"*\",end=\"\")"
   ]
  },
  {
   "cell_type": "markdown",
   "id": "f8eb3a17-fb1e-45a5-b9f1-1cff79a8c662",
   "metadata": {},
   "source": [
    "##### Write a program to print the following pattern\n",
    "##### ****\n",
    "##### ***\n",
    "##### **\n",
    "##### *"
   ]
  },
  {
   "cell_type": "code",
   "execution_count": 39,
   "id": "9f4f5fd7-f9b0-42af-8179-643fff1f6a77",
   "metadata": {},
   "outputs": [
    {
     "name": "stdout",
     "output_type": "stream",
     "text": [
      "****\n",
      "\n",
      "***\n",
      "\n",
      "**\n",
      "\n",
      "*\n",
      "\n",
      "\n",
      "\n"
     ]
    }
   ],
   "source": [
    "n = 4\n",
    "for i in range(n+1, 0, -1):  \n",
    "    for j in range(0,i-1):\n",
    "        print(\"*\", end=\"\")\n",
    "    print (\"\\n\")"
   ]
  },
  {
   "cell_type": "markdown",
   "id": "8096bfda-b7f4-41f4-bbf9-baa1257ad5ca",
   "metadata": {},
   "source": [
    "##### Write a program to accept an integer from the user and display all the numbers from 1 to that number. Repeat the process until the user enters 0."
   ]
  },
  {
   "cell_type": "code",
   "execution_count": 42,
   "id": "ef609ca2-8951-4390-ae43-527ac213ce1e",
   "metadata": {},
   "outputs": [
    {
     "name": "stdin",
     "output_type": "stream",
     "text": [
      "Enter number:  6\n"
     ]
    },
    {
     "name": "stdout",
     "output_type": "stream",
     "text": [
      "1 2 3 4 5 6 "
     ]
    },
    {
     "name": "stdin",
     "output_type": "stream",
     "text": [
      "Enter number:  23\n"
     ]
    },
    {
     "name": "stdout",
     "output_type": "stream",
     "text": [
      "1 2 3 4 5 6 7 8 9 10 11 12 13 14 15 16 17 18 19 20 21 22 23 "
     ]
    },
    {
     "name": "stdin",
     "output_type": "stream",
     "text": [
      "Enter number:  0\n"
     ]
    }
   ],
   "source": [
    "while True :\n",
    "    n=int(input(\"Enter number: \"))\n",
    "    if n>0:\n",
    "        i=1\n",
    "        while i<=n:\n",
    "            print(i , end =\" \")\n",
    "            i=i+1\n",
    "    else:\n",
    "        break"
   ]
  },
  {
   "cell_type": "code",
   "execution_count": null,
   "id": "204cef6c-dd2c-4e73-bd92-00c44824627d",
   "metadata": {},
   "outputs": [],
   "source": []
  }
 ],
 "metadata": {
  "kernelspec": {
   "display_name": "Python 3 (ipykernel)",
   "language": "python",
   "name": "python3"
  },
  "language_info": {
   "codemirror_mode": {
    "name": "ipython",
    "version": 3
   },
   "file_extension": ".py",
   "mimetype": "text/x-python",
   "name": "python",
   "nbconvert_exporter": "python",
   "pygments_lexer": "ipython3",
   "version": "3.9.2"
  }
 },
 "nbformat": 4,
 "nbformat_minor": 5
}
